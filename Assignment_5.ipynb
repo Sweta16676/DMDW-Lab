{
  "nbformat": 4,
  "nbformat_minor": 0,
  "metadata": {
    "colab": {
      "name": "Assignment-5",
      "provenance": [],
      "authorship_tag": "ABX9TyNRD+eT7pdsKbIrkuZV0kCL",
      "include_colab_link": true
    },
    "kernelspec": {
      "name": "python3",
      "display_name": "Python 3"
    }
  },
  "cells": [
    {
      "cell_type": "markdown",
      "metadata": {
        "id": "view-in-github",
        "colab_type": "text"
      },
      "source": [
        "<a href=\"https://colab.research.google.com/github/Sweta16676/DMDW-Lab/blob/main/Assignment_5.ipynb\" target=\"_parent\"><img src=\"https://colab.research.google.com/assets/colab-badge.svg\" alt=\"Open In Colab\"/></a>"
      ]
    },
    {
      "cell_type": "code",
      "metadata": {
        "id": "PuGzIb2EUCCU"
      },
      "source": [
        "#calculate the covariance between two variables\n",
        "from numpy.random import randn\n",
        "from numpy.random import seed\n",
        "from numpy import cov\n",
        "from matplotlib import pyplot"
      ],
      "execution_count": 2,
      "outputs": []
    },
    {
      "cell_type": "code",
      "metadata": {
        "id": "DucH013vUwKe"
      },
      "source": [
        "#prepare data\n",
        "data1=20*randn(100)+100\n",
        "data2=data1+(10*randn(100)+50)"
      ],
      "execution_count": 3,
      "outputs": []
    },
    {
      "cell_type": "code",
      "metadata": {
        "colab": {
          "base_uri": "https://localhost:8080/"
        },
        "id": "bEbtnVzuVGb1",
        "outputId": "a21c68d1-2a3c-4748-a6a9-e70b22ca0efb"
      },
      "source": [
        "#calculate covariance matrix\n",
        "covariance=cov(data1,data2)\n",
        "print(covariance)"
      ],
      "execution_count": 4,
      "outputs": [
        {
          "output_type": "stream",
          "text": [
            "[[457.74433654 458.51526208]\n",
            " [458.51526208 546.61820717]]\n"
          ],
          "name": "stdout"
        }
      ]
    },
    {
      "cell_type": "code",
      "metadata": {
        "colab": {
          "base_uri": "https://localhost:8080/",
          "height": 265
        },
        "id": "N5iBt6cyVlcH",
        "outputId": "93f1174f-42c2-4733-ad74-21b2c85ce501"
      },
      "source": [
        "pyplot.scatter(data1,data2)\n",
        "pyplot.show()"
      ],
      "execution_count": 5,
      "outputs": [
        {
          "output_type": "display_data",
          "data": {
            "image/png": "[encoded data removed]",
            "text/plain": [
              "<Figure size 432x288 with 1 Axes>"
            ]
          },
          "metadata": {
            "tags": [],
            "needs_background": "light"
          }
        }
      ]
    },
    {
      "cell_type": "code",
      "metadata": {
        "id": "2T_qyK83XTXg"
      },
      "source": [
        "#calculate the pearson's correlation between two variables\n",
        "from numpy.random import randn\n",
        "from scipy.stats import pearsonr\n",
        "from matplotlib import pyplot"
      ],
      "execution_count": 6,
      "outputs": []
    },
    {
      "cell_type": "code",
      "metadata": {
        "id": "c72Hy9whXybu"
      },
      "source": [
        "#prepare data\n",
        "data1=20*randn(100)+100\n",
        "data2=data1+(10*randn(100)+50)"
      ],
      "execution_count": 8,
      "outputs": []
    },
    {
      "cell_type": "code",
      "metadata": {
        "colab": {
          "base_uri": "https://localhost:8080/"
        },
        "id": "fTDoY0fWYK-K",
        "outputId": "25b17322-2b38-4494-deb7-f9a6114c2f0c"
      },
      "source": [
        "#calculate pearson's correlation\n",
        "corr,_=pearsonr(data1,data2)\n",
        "print('pearsons correlation:%3f'%corr)"
      ],
      "execution_count": 9,
      "outputs": [
        {
          "output_type": "stream",
          "text": [
            "pearsons correlation:0.929902\n"
          ],
          "name": "stdout"
        }
      ]
    },
    {
      "cell_type": "code",
      "metadata": {
        "colab": {
          "base_uri": "https://localhost:8080/",
          "height": 265
        },
        "id": "cr-voOe7Yne_",
        "outputId": "15371af8-bd9c-42b2-9edd-78a88a72744b"
      },
      "source": [
        "pyplot.scatter(data1,data2)\n",
        "pyplot.show()"
      ],
      "execution_count": 10,
      "outputs": [
        {
          "output_type": "display_data",
          "data": {
            "image/png": "[encoded data removed]",
            "text/plain": [
              "<Figure size 432x288 with 1 Axes>"
            ]
          },
          "metadata": {
            "tags": [],
            "needs_background": "light"
          }
        }
      ]
    }
  ]
}